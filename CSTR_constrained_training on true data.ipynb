{
 "cells": [
  {
   "cell_type": "code",
   "execution_count": 1,
   "id": "f4b40fb0",
   "metadata": {},
   "outputs": [],
   "source": [
    "import numpy as np\n",
    "import pandas as pd\n",
    "from sklearn.cluster import KMeans\n",
    "import matplotlib.pyplot as plt\n",
    "from sklearn.mixture import GaussianMixture"
   ]
  },
  {
   "cell_type": "code",
   "execution_count": 2,
   "id": "5f267295",
   "metadata": {},
   "outputs": [],
   "source": [
    "data = pd.read_csv('steady_state_CSTR_data2_last_ouput as true data only.csv').values"
   ]
  },
  {
   "cell_type": "code",
   "execution_count": 3,
   "id": "d28f857b",
   "metadata": {},
   "outputs": [],
   "source": [
    "data = data[:, 1:]\n",
    "F_by_V = data[:, 0]\n",
    "CAf = data[:, 1]\n",
    "CBf = data[:, 2]\n",
    "CCf = data[:, 3]\n",
    "CDf = data[:, 4]\n",
    "CA = data[:, 5]\n",
    "CB = data[:, 6]\n",
    "CC = data[:, 7]\n",
    "CD = data[:, 8]\n",
    "tt = data.shape[0]  # Total data\n",
    "tn = int(0.6 * tt)  # Total Number of Training Data\n",
    "tv = tt - tn  # Total Number of Validation Data\n",
    "nt = 9  # Total number of variables\n",
    "ni = 5  # Number of neurons in Input Layer\n",
    "no = 4  # Number of neurons in Output Layer"
   ]
  },
  {
   "cell_type": "code",
   "execution_count": 4,
   "id": "91c27927",
   "metadata": {},
   "outputs": [],
   "source": [
    "Imat_not_scaled = data[:, 0:5].T\n",
    "Imat_t_not_scaled=Imat_not_scaled[: , :int(0.6 * Imat_not_scaled.shape[1])]\n",
    "\n",
    "CAf_t_not_scaled = Imat_t_not_scaled[1, :]\n",
    "CBf_t_not_scaled = Imat_t_not_scaled[2, :]\n",
    "CCf_t_not_scaled = Imat_t_not_scaled[3, :]\n",
    "CDf_t_not_scaled = Imat_t_not_scaled[4, :]\n",
    "\n",
    "\n",
    "Imat_not_scaled = data[:, 0:5].T\n",
    "Imat_v_not_scaled = Imat_not_scaled[:, -int(0.4 * Imat_not_scaled.shape[1]):]\n",
    "\n",
    "CAf_v_not_scaled = Imat_v_not_scaled[1, :]\n",
    "CBf_v_not_scaled = Imat_v_not_scaled[2, :]\n",
    "CCf_v_not_scaled = Imat_v_not_scaled[3, :]\n",
    "CDf_v_not_scaled = Imat_v_not_scaled[4, :]"
   ]
  },
  {
   "cell_type": "code",
   "execution_count": 5,
   "id": "f4475f97",
   "metadata": {},
   "outputs": [],
   "source": [
    "C_input_training = {\n",
    "    'CA_input_training': CAf_t_not_scaled,\n",
    "    'CB_input_training': CBf_t_not_scaled,\n",
    "    'CC_input_training': CCf_t_not_scaled,\n",
    "    'CD_input_training': CDf_t_not_scaled\n",
    "}\n",
    "file_name_input = 'C_input_training_with true data output.csv'\n",
    "df_input = pd.DataFrame(C_input_training)\n",
    "df_input.to_csv(file_name_input, index=False)"
   ]
  },
  {
   "cell_type": "code",
   "execution_count": 6,
   "id": "978c2b0f",
   "metadata": {},
   "outputs": [],
   "source": [
    "C_input_validation = {\n",
    "    'CA_input_validation': CAf_v_not_scaled,\n",
    "    'CB_input_validation': CBf_v_not_scaled,\n",
    "    'CC_input_validation': CCf_v_not_scaled,\n",
    "    'CD_input_validation': CDf_v_not_scaled\n",
    "}\n",
    "file_name_input2 = 'C_input_validation_with true data output.csv'\n",
    "df_input2 = pd.DataFrame(C_input_validation)\n",
    "df_input2.to_csv(file_name_input2, index=False)"
   ]
  },
  {
   "cell_type": "code",
   "execution_count": 7,
   "id": "46ae1667",
   "metadata": {},
   "outputs": [],
   "source": [
    "norm_mat = np.zeros((tt, nt))\n",
    "delta = np.zeros(nt)\n",
    "for i in range(nt):\n",
    "    delta[i] = np.max(data[:, i]) - np.min(data[:, i])\n",
    "    norm_mat[:, i] = (data[:, i] - np.min(data[:, i])) / delta[i]  # Max-Min Normalization"
   ]
  },
  {
   "cell_type": "code",
   "execution_count": 8,
   "id": "73be7e2f",
   "metadata": {},
   "outputs": [],
   "source": [
    "dsr = norm_mat[:, 5:9].T  # Target array\n",
    "Imat = norm_mat[:, 0:5].T\n",
    "dsr_t=dsr[: , :int(0.6 * dsr.shape[1])]\n",
    "Imat_t=Imat[: , :int(0.6 * Imat.shape[1])]\n",
    "dsr_v = dsr[:, -int(0.4 * dsr.shape[1]):]\n",
    "Imat_v = Imat[:, (-int(0.4 * Imat.shape[1])):]"
   ]
  },
  {
   "cell_type": "code",
   "execution_count": 9,
   "id": "92f40c97",
   "metadata": {},
   "outputs": [],
   "source": [
    "Q = np.array([\n",
    "    [5, 5, 5, 10],\n",
    "    [10, 10, 10, 20],\n",
    "    [2, 2, 2, 4]])\n",
    "\n",
    "CAf_t = Imat_t[1, :]\n",
    "CBf_t = Imat_t[2, :]\n",
    "CCf_t = Imat_t[3, :]\n",
    "CDf_t = Imat_t[4, :]\n",
    "K = np.array([\n",
    "    5*CAf_t + 5*CBf_t + 5*CCf_t + 10*CDf_t,\n",
    "    10*CAf_t + 10*CBf_t + 10*CCf_t + 20*CDf_t,\n",
    "    2*CAf_t + 2*CBf_t + 2*CCf_t + 4*CDf_t ])"
   ]
  },
  {
   "cell_type": "code",
   "execution_count": 10,
   "id": "9440cb83",
   "metadata": {
    "scrolled": true
   },
   "outputs": [
    {
     "name": "stderr",
     "output_type": "stream",
     "text": [
      "C:\\Users\\User\\AppData\\Local\\Programs\\Python\\Python310\\lib\\site-packages\\sklearn\\cluster\\_kmeans.py:870: FutureWarning: The default value of `n_init` will change from 10 to 'auto' in 1.4. Set the value of `n_init` explicitly to suppress the warning\n",
      "  warnings.warn(\n"
     ]
    }
   ],
   "source": [
    "# Number of centers of RBFs\n",
    "tc = 50\n",
    "\n",
    "# # Getting coordinates of the centres\n",
    "# distances = np.zeros(len(Imat_t[1]))\n",
    "# mean1=np.mean(Imat_t[:,0])\n",
    "# mean2=np.mean(Imat_t[:,1])\n",
    "# mean3=np.mean(Imat_t[:,2])\n",
    "# mean4=np.mean(Imat_t[:,3])\n",
    "# mean5=np.mean(Imat_t[:,4])\n",
    "# mean = np.array([mean1, mean2, mean3, mean4, mean5])\n",
    "# for i in range(len(Imat_t)):\n",
    "#     for j in range(ni):\n",
    "#         distances[i]+=Imat_t[j][i]-mean[j]\n",
    "# indices = np.argsort(distances)   # Sorting the distances and get corresponding indices\n",
    "# # for l in range(tc):\n",
    "# #     centermat=Imat_t[indices[l]]\n",
    "# centermat = Imat_t[:,indices[:tc]]   # Select 'tc'-nearest neighbors as the centres\n",
    "\n",
    "# Getting coordinates of the centres-Probabilistic Centre Selection\n",
    "centermat = np.zeros((ni, tc))\n",
    "for i in range(ni):\n",
    "    mean_i = np.mean(Imat_t[i, :])\n",
    "    sigma_i = 1\n",
    "    x = np.linspace(mean_i-3*sigma_i, mean_i+3*sigma_i, Imat_t.shape[1])\n",
    "    curve = 1/np.sqrt(2*np.pi*sigma_i**2)*np.exp(-(x-mean_i)**2/(2*sigma_i**2))\n",
    "    random_distributed_indices = np.random.choice(len(curve), size=tc, replace=True)\n",
    "    centermat[i, :] = Imat_t[i][random_distributed_indices]\n",
    "\n",
    "\n",
    "#Getting width\n",
    "#sigma = 2\n",
    "kmeans = KMeans(n_clusters=tc)\n",
    "kmeans.fit(Imat_t.T)\n",
    "centers = kmeans.cluster_centers_.T\n",
    "sigma = np.mean(np.linalg.norm(centermat - centers, axis=0))\n",
    "\n",
    "#Getting Weights by Least Square method\n",
    "D = np.zeros((tc, tn))\n",
    "for i in range(tc):\n",
    "    for j in range(tn):\n",
    "        D[i, j] = np.linalg.norm(centermat[:, i] - Imat_t[:, j])\n",
    "PhiofD = 1 / np.sqrt(2 * np.pi * sigma**2) * np.exp(-D**2 / (2 * sigma**2))  \n",
    "pinv_phi = np.linalg.pinv(PhiofD)\n",
    "pinv_Q = np.linalg.pinv(Q)\n",
    "#z = np.dot(np.dot(pinv_Q, K),pinv_phi).T\n",
    "z = np.dot(pinv_phi.T, (np.dot(pinv_Q, K)).T)"
   ]
  },
  {
   "cell_type": "markdown",
   "id": "7a73750c",
   "metadata": {},
   "source": [
    " "
   ]
  },
  {
   "cell_type": "markdown",
   "id": "426f3576",
   "metadata": {},
   "source": [
    "#Training"
   ]
  },
  {
   "cell_type": "code",
   "execution_count": 11,
   "id": "a01259ae",
   "metadata": {},
   "outputs": [],
   "source": [
    "D = np.zeros((tc, tn))\n",
    "for i in range(tc):\n",
    "    for j in range(tn):\n",
    "        D[i, j] = np.linalg.norm(centermat[:, i] - Imat_t[:, j])\n",
    "yHL = 1 / np.sqrt(2 * np.pi * sigma**2) * np.exp(-D**2 / (2 * sigma**2))\n",
    "ynn_tv = np.dot(yHL.T, z)  # Prediction of Training Data\n",
    "dsr_t_v = dsr_t.T*delta[ni:] + np.min(data[:, ni:], axis=0)\n",
    "ynn_t_v = ynn_tv*delta[ni:] + np.min(data[:, ni:], axis=0)"
   ]
  },
  {
   "cell_type": "code",
   "execution_count": 12,
   "id": "f5fdf514",
   "metadata": {},
   "outputs": [],
   "source": [
    "CA_t_p = ynn_t_v[:, 0]\n",
    "CB_t_p = ynn_t_v[:, 1]\n",
    "CC_t_p = ynn_t_v[:, 2]\n",
    "CD_t_p = ynn_t_v[:, 3]"
   ]
  },
  {
   "cell_type": "code",
   "execution_count": 13,
   "id": "92e4db49",
   "metadata": {},
   "outputs": [],
   "source": [
    "C_output_MCNN_training = {\n",
    "    'CA_output_MCNN_training': CA_t_p,\n",
    "    'CB_output_MCNN_training': CB_t_p,\n",
    "    'CC_output_MCNN_training': CC_t_p,\n",
    "    'CD_output_MCNN_training': CD_t_p\n",
    "}\n",
    "# file_name1 = 'C_output_MCNN_training_with true data output.csv'\n",
    "# df1 = pd.DataFrame(C_output_MCNN_training)\n",
    "# df1.to_csv(file_name1, index=False)"
   ]
  },
  {
   "cell_type": "markdown",
   "id": "f526a3bb",
   "metadata": {},
   "source": [
    " "
   ]
  },
  {
   "cell_type": "markdown",
   "id": "39732c5e",
   "metadata": {},
   "source": [
    "#Validation"
   ]
  },
  {
   "cell_type": "code",
   "execution_count": 14,
   "id": "f5585580",
   "metadata": {
    "scrolled": true
   },
   "outputs": [],
   "source": [
    "Dv = np.zeros((tc, tv))\n",
    "for i in range(tc):\n",
    "    for j in range(tv):\n",
    "        Dv[i, j] = np.linalg.norm(centermat[:, i] - Imat_v[:, j])\n",
    "yHL = 1 / np.sqrt(2 * np.pi * sigma**2) * np.exp(-Dv**2 / (2 * sigma**2))\n",
    "ynn_v = np.dot(yHL.T, z)\n",
    "dsr_v_p = dsr_v.T * delta[ni:] + np.min(data[:, ni:], axis=0)\n",
    "ynn_v_p = ynn_v * delta[ni:] + np.min(data[:, ni:], axis=0)"
   ]
  },
  {
   "cell_type": "code",
   "execution_count": 15,
   "id": "7291fbf8",
   "metadata": {},
   "outputs": [],
   "source": [
    "CA_v_p = ynn_v_p[:, 0]\n",
    "CB_v_p = ynn_v_p[:, 1]\n",
    "CC_v_p = ynn_v_p[:, 2]\n",
    "CD_v_p = ynn_v_p[:, 3]"
   ]
  },
  {
   "cell_type": "code",
   "execution_count": 16,
   "id": "5416cc8f",
   "metadata": {},
   "outputs": [],
   "source": [
    "C_output_MCNN_validation = {\n",
    "    'CA_output_MCNN_validation': CA_v_p,\n",
    "    'CB_output_MCNN_validation': CB_v_p,\n",
    "    'CC_output_MCNN_validation': CC_v_p,\n",
    "    'CD_output_MCNN_validation': CD_v_p\n",
    "}\n",
    "# file_name2 = 'C_output_MCNN_validation_with true data output.csv'\n",
    "# df2 = pd.DataFrame(C_output_MCNN_validation)\n",
    "# df2.to_csv(file_name2, index=False)"
   ]
  },
  {
   "cell_type": "code",
   "execution_count": null,
   "id": "7b68071e",
   "metadata": {},
   "outputs": [],
   "source": []
  }
 ],
 "metadata": {
  "kernelspec": {
   "display_name": "Python 3 (ipykernel)",
   "language": "python",
   "name": "python3"
  },
  "language_info": {
   "codemirror_mode": {
    "name": "ipython",
    "version": 3
   },
   "file_extension": ".py",
   "mimetype": "text/x-python",
   "name": "python",
   "nbconvert_exporter": "python",
   "pygments_lexer": "ipython3",
   "version": "3.10.11"
  }
 },
 "nbformat": 4,
 "nbformat_minor": 5
}
